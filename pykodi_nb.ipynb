{
 "cells": [
  {
   "cell_type": "markdown",
   "metadata": {},
   "source": [
    "# PyKodi notebook\n",
    "\n",
    "This notebook explains how to use the PyKodi library."
   ]
  },
  {
   "cell_type": "markdown",
   "metadata": {},
   "source": [
    "First of all, let's import the library:"
   ]
  },
  {
   "cell_type": "code",
   "execution_count": 1,
   "metadata": {
    "collapsed": true
   },
   "outputs": [],
   "source": [
    "import pykodi as kodi"
   ]
  },
  {
   "cell_type": "markdown",
   "metadata": {},
   "source": [
    "Let's increase the verbosity of the logs:"
   ]
  },
  {
   "cell_type": "code",
   "execution_count": 2,
   "metadata": {
    "collapsed": false
   },
   "outputs": [],
   "source": [
    "import logging\n",
    "logger = logging.getLogger()\n",
    "logger.setLevel(logging.INFO)"
   ]
  },
  {
   "cell_type": "markdown",
   "metadata": {},
   "source": [
    "You need to create the dict of paramaters:"
   ]
  },
  {
   "cell_type": "code",
   "execution_count": 3,
   "metadata": {
    "collapsed": false
   },
   "outputs": [],
   "source": [
    "params = {}\n",
    "params['ip'] = '192.168.1.102'\n",
    "params['port'] = '8080'\n",
    "params['user'] = 'kodi'\n",
    "params['password'] = 'cobyijuFlyn4'"
   ]
  },
  {
   "cell_type": "markdown",
   "metadata": {},
   "source": [
    "Let's try to reach the Kodi server:"
   ]
  },
  {
   "cell_type": "code",
   "execution_count": 4,
   "metadata": {
    "collapsed": false
   },
   "outputs": [
    {
     "name": "stderr",
     "output_type": "stream",
     "text": [
      "INFO:pykodi.rpc.rpc:command: {'jsonrpc': '2.0', 'method': 'JSONRPC.Ping', 'id': 1}\n",
      "INFO:requests.packages.urllib3.connectionpool:Starting new HTTP connection (1): 192.168.1.102\n",
      "INFO:pykodi.rpc.rpc:command processed successfully\n",
      "INFO:pykodi.rpc.rpc:command: {'params': {'labels': ['System.FriendlyName']}, 'jsonrpc': '2.0', 'method': 'XBMC.GetInfoLabels', 'id': 1}\n",
      "INFO:requests.packages.urllib3.connectionpool:Starting new HTTP connection (1): 192.168.1.102\n",
      "INFO:pykodi.rpc.rpc:command processed successfully\n"
     ]
    },
    {
     "name": "stdout",
     "output_type": "stream",
     "text": [
      "Friendly name of your Kodi server: Kodi (OpenELEC)\n"
     ]
    }
   ],
   "source": [
    "print \"Friendly name of your Kodi server: %s\" % kodi.get_friendly_name(params)"
   ]
  },
  {
   "cell_type": "markdown",
   "metadata": {},
   "source": [
    "We can now sync the library localy: "
   ]
  },
  {
   "cell_type": "code",
   "execution_count": 5,
   "metadata": {
    "collapsed": false
   },
   "outputs": [
    {
     "name": "stdout",
     "output_type": "stream",
     "text": [
      "20\n",
      "20\n",
      "20\n",
      "20\n"
     ]
    }
   ],
   "source": [
    "songs = {}\n",
    "kodi.set_songs_sync(params, songs)"
   ]
  },
  {
   "cell_type": "code",
   "execution_count": 6,
   "metadata": {
    "collapsed": false
   },
   "outputs": [
    {
     "name": "stdout",
     "output_type": "stream",
     "text": [
      "1 Intro\n",
      "2 Base 6\n",
      "3 Crazy Baby Turns Blue (Soulwax edit) (Part T One vs. Virgin Prunes)\n",
      "4 Horse With No Name\n",
      "5 Electronic for the Children\n",
      "6 Joe le taxi\n",
      "7 Set It Off\n",
      "8 Porque te vas\n",
      "9 Adolescent Sex\n",
      "10 On the Dancefloor\n",
      "11 Steppin It Up\n",
      "12 Rock Steady\n",
      "13 Hip Hop Party Booster for DJ's\n",
      "14 Why Did You Do It?\n",
      "15 Fight the Power\n",
      "16 Lovage (Love That Lovage Baby)\n",
      "17 Je t'aime... moi non plus (feat. Miss Kittin)\n",
      "18 Communication Breakdown\n",
      "19 Love Missile F1-11\n",
      "20 In the Beginning Was Strange Games\n",
      "21 Crazy in Love\n",
      "22 Step Into a World\n",
      "23 Heart of Glass (Parallel mix)\n",
      "24 Italomatic\n",
      "25 Cherry Lips\n",
      "26 Undercover of the Night\n",
      "27 Sexy Dancer (feat. Peaches & Bitch Lap Lap)\n",
      "28 Confusion\n",
      "29 Dirty Talk\n",
      "30 Horror Movies\n",
      "31 Everyone Can Do It\n",
      "32 6 Strings of Truth\n",
      "33 Clockwork\n",
      "34 Fashion Rules!\n",
      "35 Sunglasses at Night\n",
      "36 House of the Rising Sun\n",
      "37 Madame Hollywood\n",
      "38 Make It Happen\n",
      "39 Billy Jean vs. Seventeen (Michael Jackson vs. Ladytron)\n",
      "40 Rock to the Beat vs. Hold Your Head Up (101 vs. Argent)\n",
      "41 Losing My Edge\n",
      "42 Music to Make Love to Your Old Lady By\n",
      "43 Old Cape Cod\n",
      "44 Keep Ya Head Up\n",
      "45 2 of Amerikaz Most Wanted\n",
      "46 Temptations\n",
      "47 God Bless the Dead\n",
      "48 Hail Mary\n",
      "49 Me Against the World\n",
      "50 How Do U Want It\n",
      "51 So Many Tears\n",
      "52 Unconditional Love\n",
      "53 Trapped\n",
      "54 Life Goes On\n",
      "55 Hit 'em Up\n",
      "56 Troublesome '96\n",
      "57 Brenda's Got a Baby\n",
      "58 I Ain't Mad at Cha\n",
      "59 I Get Around\n",
      "60 Changes\n",
      "61 California Love (original)\n",
      "62 Picture Me Rollin'\n",
      "63 How Long Will They Mourn Me?\n",
      "64 Toss It Up\n",
      "65 Dear Mama\n",
      "66 All About U\n",
      "67 To Live and Die in L.A.\n",
      "68 Heartz of Men\n",
      "69 Intro\n",
      "70 If I Die 2Nite\n",
      "71 Me Against the World\n",
      "72 So Many Tears\n",
      "73 Temptations\n",
      "74 Young Niggaz\n",
      "75 Heavy in the Game\n",
      "76 Lord Knows\n",
      "77 Dear Mama\n",
      "78 It Ain't Easy\n",
      "79 Can U Get Away\n",
      "80 Old School\n"
     ]
    }
   ],
   "source": [
    "for songid in songs:\n",
    "    print songid, songs[songid]['title']"
   ]
  },
  {
   "cell_type": "markdown",
   "metadata": {},
   "source": [
    "That's it for today!"
   ]
  }
 ],
 "metadata": {
  "kernelspec": {
   "display_name": "Python 2",
   "language": "python",
   "name": "python2"
  },
  "language_info": {
   "codemirror_mode": {
    "name": "ipython",
    "version": 2
   },
   "file_extension": ".py",
   "mimetype": "text/x-python",
   "name": "python",
   "nbconvert_exporter": "python",
   "pygments_lexer": "ipython2",
   "version": "2.7.10"
  }
 },
 "nbformat": 4,
 "nbformat_minor": 0
}
