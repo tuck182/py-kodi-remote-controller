{
 "cells": [
  {
   "cell_type": "markdown",
   "metadata": {},
   "source": [
    "# PyKodi notebook\n",
    "\n",
    "This notebook explains how to use the PyKodi library. A couple of functions are demonstrated. "
   ]
  },
  {
   "cell_type": "markdown",
   "metadata": {},
   "source": [
    "First of all, let's import the library:"
   ]
  },
  {
   "cell_type": "code",
   "execution_count": 1,
   "metadata": {
    "collapsed": true
   },
   "outputs": [],
   "source": [
    "import pykodi as kodi"
   ]
  },
  {
   "cell_type": "markdown",
   "metadata": {},
   "source": [
    "You need to create the dict of paramaters:"
   ]
  },
  {
   "cell_type": "code",
   "execution_count": 2,
   "metadata": {
    "collapsed": false
   },
   "outputs": [],
   "source": [
    "params = {}\n",
    "params['ip'] = '192.168.1.102'\n",
    "params['port'] = '8080'\n",
    "params['user'] = 'kodi'\n",
    "params['password'] = 'cobyijuFlyn4'"
   ]
  },
  {
   "cell_type": "markdown",
   "metadata": {},
   "source": [
    "## Verbosity\n",
    "\n",
    "Let's increase the verbosity of the logs:"
   ]
  },
  {
   "cell_type": "code",
   "execution_count": 3,
   "metadata": {
    "collapsed": false
   },
   "outputs": [],
   "source": [
    "import logging\n",
    "logger = logging.getLogger()\n",
    "logger.setLevel(logging.INFO)"
   ]
  },
  {
   "cell_type": "markdown",
   "metadata": {},
   "source": [
    "Let's try to reach the Kodi server:"
   ]
  },
  {
   "cell_type": "code",
   "execution_count": 4,
   "metadata": {
    "collapsed": false
   },
   "outputs": [
    {
     "name": "stderr",
     "output_type": "stream",
     "text": [
      "INFO:pykodi.rpc.rpc:command: {'jsonrpc': '2.0', 'method': 'JSONRPC.Ping', 'id': 1}\n",
      "INFO:urllib3.connectionpool:Starting new HTTP connection (1): 192.168.1.102\n",
      "INFO:pykodi.rpc.rpc:command processed successfully\n",
      "INFO:pykodi.rpc.rpc:command: {'params': {'labels': ['System.FriendlyName']}, 'jsonrpc': '2.0', 'method': 'XBMC.GetInfoLabels', 'id': 1}\n",
      "INFO:urllib3.connectionpool:Starting new HTTP connection (1): 192.168.1.102\n",
      "INFO:pykodi.rpc.rpc:command processed successfully\n"
     ]
    },
    {
     "name": "stdout",
     "output_type": "stream",
     "text": [
      "Friendly name of your Kodi server: Kodi (OpenELEC)\n"
     ]
    }
   ],
   "source": [
    "print \"Friendly name of your Kodi server: %s\" % kodi.get_friendly_name(params)"
   ]
  },
  {
   "cell_type": "markdown",
   "metadata": {},
   "source": [
    "## Albums"
   ]
  },
  {
   "cell_type": "code",
   "execution_count": 5,
   "metadata": {
    "collapsed": false
   },
   "outputs": [
    {
     "name": "stderr",
     "output_type": "stream",
     "text": [
      "INFO:pykodi.rpc.rpc:command: {'jsonrpc': '2.0', 'method': 'JSONRPC.Ping', 'id': 1}\n",
      "INFO:urllib3.connectionpool:Starting new HTTP connection (1): 192.168.1.102\n",
      "INFO:pykodi.rpc.rpc:command processed successfully\n",
      "INFO:pykodi.rpc.rpc:command: {'params': {'limits': {'start': 0, 'end': 1}}, 'jsonrpc': '2.0', 'method': 'AudioLibrary.GetAlbums', 'id': 1}\n",
      "INFO:urllib3.connectionpool:Starting new HTTP connection (1): 192.168.1.102\n",
      "INFO:pykodi.rpc.rpc:command processed successfully\n",
      "INFO:pykodi.core.core:processing slice 0 (songs 0 to 20 in 1055)\n",
      "INFO:pykodi.rpc.rpc:command: {'params': {'properties': ['title', 'artist', 'year', 'rating', 'musicbrainzalbumid', 'genreid', 'genre'], 'limits': {'start': 0, 'end': 20}}, 'jsonrpc': '2.0', 'method': 'AudioLibrary.GetAlbums', 'id': 1}\n",
      "INFO:urllib3.connectionpool:Starting new HTTP connection (1): 192.168.1.102\n",
      "INFO:pykodi.rpc.rpc:command processed successfully\n",
      "INFO:pykodi.core.core:processing slice 1 (songs 20 to 40 in 1055)\n",
      "INFO:pykodi.rpc.rpc:command: {'params': {'properties': ['title', 'artist', 'year', 'rating', 'musicbrainzalbumid', 'genreid', 'genre'], 'limits': {'start': 20, 'end': 40}}, 'jsonrpc': '2.0', 'method': 'AudioLibrary.GetAlbums', 'id': 1}\n",
      "INFO:urllib3.connectionpool:Starting new HTTP connection (1): 192.168.1.102\n",
      "INFO:pykodi.rpc.rpc:command processed successfully\n",
      "INFO:pykodi.core.core:processing slice 2 (songs 40 to 60 in 1055)\n",
      "INFO:pykodi.rpc.rpc:command: {'params': {'properties': ['title', 'artist', 'year', 'rating', 'musicbrainzalbumid', 'genreid', 'genre'], 'limits': {'start': 40, 'end': 60}}, 'jsonrpc': '2.0', 'method': 'AudioLibrary.GetAlbums', 'id': 1}\n",
      "INFO:urllib3.connectionpool:Starting new HTTP connection (1): 192.168.1.102\n",
      "INFO:pykodi.rpc.rpc:command processed successfully\n",
      "INFO:pykodi.core.core:processing slice 3 (songs 60 to 80 in 1055)\n",
      "INFO:pykodi.rpc.rpc:command: {'params': {'properties': ['title', 'artist', 'year', 'rating', 'musicbrainzalbumid', 'genreid', 'genre'], 'limits': {'start': 60, 'end': 80}}, 'jsonrpc': '2.0', 'method': 'AudioLibrary.GetAlbums', 'id': 1}\n",
      "INFO:urllib3.connectionpool:Starting new HTTP connection (1): 192.168.1.102\n",
      "INFO:pykodi.rpc.rpc:command processed successfully\n",
      "INFO:pykodi.core.core:processing slice 4 (songs 80 to 100 in 1055)\n",
      "INFO:pykodi.rpc.rpc:command: {'params': {'properties': ['title', 'artist', 'year', 'rating', 'musicbrainzalbumid', 'genreid', 'genre'], 'limits': {'start': 80, 'end': 100}}, 'jsonrpc': '2.0', 'method': 'AudioLibrary.GetAlbums', 'id': 1}\n",
      "INFO:urllib3.connectionpool:Starting new HTTP connection (1): 192.168.1.102\n",
      "INFO:pykodi.rpc.rpc:command processed successfully\n",
      "INFO:pykodi.core.core:processing slice 5 (songs 100 to 120 in 1055)\n",
      "INFO:pykodi.rpc.rpc:command: {'params': {'properties': ['title', 'artist', 'year', 'rating', 'musicbrainzalbumid', 'genreid', 'genre'], 'limits': {'start': 100, 'end': 120}}, 'jsonrpc': '2.0', 'method': 'AudioLibrary.GetAlbums', 'id': 1}\n",
      "INFO:urllib3.connectionpool:Starting new HTTP connection (1): 192.168.1.102\n",
      "INFO:pykodi.rpc.rpc:command processed successfully\n",
      "INFO:pykodi.core.core:processing slice 6 (songs 120 to 140 in 1055)\n",
      "INFO:pykodi.rpc.rpc:command: {'params': {'properties': ['title', 'artist', 'year', 'rating', 'musicbrainzalbumid', 'genreid', 'genre'], 'limits': {'start': 120, 'end': 140}}, 'jsonrpc': '2.0', 'method': 'AudioLibrary.GetAlbums', 'id': 1}\n",
      "INFO:urllib3.connectionpool:Starting new HTTP connection (1): 192.168.1.102\n",
      "INFO:pykodi.rpc.rpc:command processed successfully\n",
      "INFO:pykodi.core.core:processing slice 7 (songs 140 to 160 in 1055)\n",
      "INFO:pykodi.rpc.rpc:command: {'params': {'properties': ['title', 'artist', 'year', 'rating', 'musicbrainzalbumid', 'genreid', 'genre'], 'limits': {'start': 140, 'end': 160}}, 'jsonrpc': '2.0', 'method': 'AudioLibrary.GetAlbums', 'id': 1}\n",
      "INFO:urllib3.connectionpool:Starting new HTTP connection (1): 192.168.1.102\n",
      "INFO:pykodi.rpc.rpc:command processed successfully\n",
      "INFO:pykodi.core.core:processing slice 8 (songs 160 to 180 in 1055)\n",
      "INFO:pykodi.rpc.rpc:command: {'params': {'properties': ['title', 'artist', 'year', 'rating', 'musicbrainzalbumid', 'genreid', 'genre'], 'limits': {'start': 160, 'end': 180}}, 'jsonrpc': '2.0', 'method': 'AudioLibrary.GetAlbums', 'id': 1}\n",
      "INFO:urllib3.connectionpool:Starting new HTTP connection (1): 192.168.1.102\n",
      "INFO:pykodi.rpc.rpc:command processed successfully\n",
      "INFO:pykodi.core.core:processing slice 9 (songs 180 to 200 in 1055)\n",
      "INFO:pykodi.rpc.rpc:command: {'params': {'properties': ['title', 'artist', 'year', 'rating', 'musicbrainzalbumid', 'genreid', 'genre'], 'limits': {'start': 180, 'end': 200}}, 'jsonrpc': '2.0', 'method': 'AudioLibrary.GetAlbums', 'id': 1}\n",
      "INFO:urllib3.connectionpool:Starting new HTTP connection (1): 192.168.1.102\n",
      "INFO:pykodi.rpc.rpc:command processed successfully\n",
      "INFO:pykodi.core.core:processing slice 10 (songs 200 to 220 in 1055)\n",
      "INFO:pykodi.rpc.rpc:command: {'params': {'properties': ['title', 'artist', 'year', 'rating', 'musicbrainzalbumid', 'genreid', 'genre'], 'limits': {'start': 200, 'end': 220}}, 'jsonrpc': '2.0', 'method': 'AudioLibrary.GetAlbums', 'id': 1}\n",
      "INFO:urllib3.connectionpool:Starting new HTTP connection (1): 192.168.1.102\n",
      "INFO:pykodi.rpc.rpc:command processed successfully\n",
      "INFO:pykodi.core.core:processing slice 11 (songs 220 to 240 in 1055)\n",
      "INFO:pykodi.rpc.rpc:command: {'params': {'properties': ['title', 'artist', 'year', 'rating', 'musicbrainzalbumid', 'genreid', 'genre'], 'limits': {'start': 220, 'end': 240}}, 'jsonrpc': '2.0', 'method': 'AudioLibrary.GetAlbums', 'id': 1}\n",
      "INFO:urllib3.connectionpool:Starting new HTTP connection (1): 192.168.1.102\n",
      "INFO:pykodi.rpc.rpc:command processed successfully\n",
      "INFO:pykodi.core.core:processing slice 12 (songs 240 to 260 in 1055)\n",
      "INFO:pykodi.rpc.rpc:command: {'params': {'properties': ['title', 'artist', 'year', 'rating', 'musicbrainzalbumid', 'genreid', 'genre'], 'limits': {'start': 240, 'end': 260}}, 'jsonrpc': '2.0', 'method': 'AudioLibrary.GetAlbums', 'id': 1}\n",
      "INFO:urllib3.connectionpool:Starting new HTTP connection (1): 192.168.1.102\n",
      "INFO:pykodi.rpc.rpc:command processed successfully\n",
      "INFO:pykodi.core.core:processing slice 13 (songs 260 to 280 in 1055)\n",
      "INFO:pykodi.rpc.rpc:command: {'params': {'properties': ['title', 'artist', 'year', 'rating', 'musicbrainzalbumid', 'genreid', 'genre'], 'limits': {'start': 260, 'end': 280}}, 'jsonrpc': '2.0', 'method': 'AudioLibrary.GetAlbums', 'id': 1}\n",
      "INFO:urllib3.connectionpool:Starting new HTTP connection (1): 192.168.1.102\n",
      "INFO:pykodi.rpc.rpc:command processed successfully\n",
      "INFO:pykodi.core.core:processing slice 14 (songs 280 to 300 in 1055)\n",
      "INFO:pykodi.rpc.rpc:command: {'params': {'properties': ['title', 'artist', 'year', 'rating', 'musicbrainzalbumid', 'genreid', 'genre'], 'limits': {'start': 280, 'end': 300}}, 'jsonrpc': '2.0', 'method': 'AudioLibrary.GetAlbums', 'id': 1}\n",
      "INFO:urllib3.connectionpool:Starting new HTTP connection (1): 192.168.1.102\n",
      "INFO:pykodi.rpc.rpc:command processed successfully\n",
      "INFO:pykodi.core.core:processing slice 15 (songs 300 to 320 in 1055)\n",
      "INFO:pykodi.rpc.rpc:command: {'params': {'properties': ['title', 'artist', 'year', 'rating', 'musicbrainzalbumid', 'genreid', 'genre'], 'limits': {'start': 300, 'end': 320}}, 'jsonrpc': '2.0', 'method': 'AudioLibrary.GetAlbums', 'id': 1}\n",
      "INFO:urllib3.connectionpool:Starting new HTTP connection (1): 192.168.1.102\n",
      "INFO:pykodi.rpc.rpc:command processed successfully\n",
      "INFO:pykodi.core.core:processing slice 16 (songs 320 to 340 in 1055)\n",
      "INFO:pykodi.rpc.rpc:command: {'params': {'properties': ['title', 'artist', 'year', 'rating', 'musicbrainzalbumid', 'genreid', 'genre'], 'limits': {'start': 320, 'end': 340}}, 'jsonrpc': '2.0', 'method': 'AudioLibrary.GetAlbums', 'id': 1}\n",
      "INFO:urllib3.connectionpool:Starting new HTTP connection (1): 192.168.1.102\n",
      "INFO:pykodi.rpc.rpc:command processed successfully\n",
      "INFO:pykodi.core.core:processing slice 17 (songs 340 to 360 in 1055)\n",
      "INFO:pykodi.rpc.rpc:command: {'params': {'properties': ['title', 'artist', 'year', 'rating', 'musicbrainzalbumid', 'genreid', 'genre'], 'limits': {'start': 340, 'end': 360}}, 'jsonrpc': '2.0', 'method': 'AudioLibrary.GetAlbums', 'id': 1}\n",
      "INFO:urllib3.connectionpool:Starting new HTTP connection (1): 192.168.1.102\n",
      "INFO:pykodi.rpc.rpc:command processed successfully\n",
      "INFO:pykodi.core.core:processing slice 18 (songs 360 to 380 in 1055)\n",
      "INFO:pykodi.rpc.rpc:command: {'params': {'properties': ['title', 'artist', 'year', 'rating', 'musicbrainzalbumid', 'genreid', 'genre'], 'limits': {'start': 360, 'end': 380}}, 'jsonrpc': '2.0', 'method': 'AudioLibrary.GetAlbums', 'id': 1}\n",
      "INFO:urllib3.connectionpool:Starting new HTTP connection (1): 192.168.1.102\n",
      "INFO:pykodi.rpc.rpc:command processed successfully\n",
      "INFO:pykodi.core.core:processing slice 19 (songs 380 to 400 in 1055)\n",
      "INFO:pykodi.rpc.rpc:command: {'params': {'properties': ['title', 'artist', 'year', 'rating', 'musicbrainzalbumid', 'genreid', 'genre'], 'limits': {'start': 380, 'end': 400}}, 'jsonrpc': '2.0', 'method': 'AudioLibrary.GetAlbums', 'id': 1}\n",
      "INFO:urllib3.connectionpool:Starting new HTTP connection (1): 192.168.1.102\n",
      "INFO:pykodi.rpc.rpc:command processed successfully\n",
      "INFO:pykodi.core.core:processing slice 20 (songs 400 to 420 in 1055)\n",
      "INFO:pykodi.rpc.rpc:command: {'params': {'properties': ['title', 'artist', 'year', 'rating', 'musicbrainzalbumid', 'genreid', 'genre'], 'limits': {'start': 400, 'end': 420}}, 'jsonrpc': '2.0', 'method': 'AudioLibrary.GetAlbums', 'id': 1}\n",
      "INFO:urllib3.connectionpool:Starting new HTTP connection (1): 192.168.1.102\n",
      "INFO:pykodi.rpc.rpc:command processed successfully\n",
      "INFO:pykodi.core.core:processing slice 21 (songs 420 to 440 in 1055)\n",
      "INFO:pykodi.rpc.rpc:command: {'params': {'properties': ['title', 'artist', 'year', 'rating', 'musicbrainzalbumid', 'genreid', 'genre'], 'limits': {'start': 420, 'end': 440}}, 'jsonrpc': '2.0', 'method': 'AudioLibrary.GetAlbums', 'id': 1}\n",
      "INFO:urllib3.connectionpool:Starting new HTTP connection (1): 192.168.1.102\n",
      "INFO:pykodi.rpc.rpc:command processed successfully\n",
      "INFO:pykodi.core.core:processing slice 22 (songs 440 to 460 in 1055)\n",
      "INFO:pykodi.rpc.rpc:command: {'params': {'properties': ['title', 'artist', 'year', 'rating', 'musicbrainzalbumid', 'genreid', 'genre'], 'limits': {'start': 440, 'end': 460}}, 'jsonrpc': '2.0', 'method': 'AudioLibrary.GetAlbums', 'id': 1}\n",
      "INFO:urllib3.connectionpool:Starting new HTTP connection (1): 192.168.1.102\n",
      "INFO:pykodi.rpc.rpc:command processed successfully\n",
      "INFO:pykodi.core.core:processing slice 23 (songs 460 to 480 in 1055)\n",
      "INFO:pykodi.rpc.rpc:command: {'params': {'properties': ['title', 'artist', 'year', 'rating', 'musicbrainzalbumid', 'genreid', 'genre'], 'limits': {'start': 460, 'end': 480}}, 'jsonrpc': '2.0', 'method': 'AudioLibrary.GetAlbums', 'id': 1}\n",
      "INFO:urllib3.connectionpool:Starting new HTTP connection (1): 192.168.1.102\n",
      "INFO:pykodi.rpc.rpc:command processed successfully\n",
      "INFO:pykodi.core.core:processing slice 24 (songs 480 to 500 in 1055)\n",
      "INFO:pykodi.rpc.rpc:command: {'params': {'properties': ['title', 'artist', 'year', 'rating', 'musicbrainzalbumid', 'genreid', 'genre'], 'limits': {'start': 480, 'end': 500}}, 'jsonrpc': '2.0', 'method': 'AudioLibrary.GetAlbums', 'id': 1}\n",
      "INFO:urllib3.connectionpool:Starting new HTTP connection (1): 192.168.1.102\n",
      "INFO:pykodi.rpc.rpc:command processed successfully\n",
      "INFO:pykodi.core.core:processing slice 25 (songs 500 to 520 in 1055)\n",
      "INFO:pykodi.rpc.rpc:command: {'params': {'properties': ['title', 'artist', 'year', 'rating', 'musicbrainzalbumid', 'genreid', 'genre'], 'limits': {'start': 500, 'end': 520}}, 'jsonrpc': '2.0', 'method': 'AudioLibrary.GetAlbums', 'id': 1}\n",
      "INFO:urllib3.connectionpool:Starting new HTTP connection (1): 192.168.1.102\n",
      "INFO:pykodi.rpc.rpc:command processed successfully\n",
      "INFO:pykodi.core.core:processing slice 26 (songs 520 to 540 in 1055)\n",
      "INFO:pykodi.rpc.rpc:command: {'params': {'properties': ['title', 'artist', 'year', 'rating', 'musicbrainzalbumid', 'genreid', 'genre'], 'limits': {'start': 520, 'end': 540}}, 'jsonrpc': '2.0', 'method': 'AudioLibrary.GetAlbums', 'id': 1}\n",
      "INFO:urllib3.connectionpool:Starting new HTTP connection (1): 192.168.1.102\n",
      "INFO:pykodi.rpc.rpc:command processed successfully\n",
      "INFO:pykodi.core.core:processing slice 27 (songs 540 to 560 in 1055)\n",
      "INFO:pykodi.rpc.rpc:command: {'params': {'properties': ['title', 'artist', 'year', 'rating', 'musicbrainzalbumid', 'genreid', 'genre'], 'limits': {'start': 540, 'end': 560}}, 'jsonrpc': '2.0', 'method': 'AudioLibrary.GetAlbums', 'id': 1}\n",
      "INFO:urllib3.connectionpool:Starting new HTTP connection (1): 192.168.1.102\n",
      "INFO:pykodi.rpc.rpc:command processed successfully\n",
      "INFO:pykodi.core.core:processing slice 28 (songs 560 to 580 in 1055)\n",
      "INFO:pykodi.rpc.rpc:command: {'params': {'properties': ['title', 'artist', 'year', 'rating', 'musicbrainzalbumid', 'genreid', 'genre'], 'limits': {'start': 560, 'end': 580}}, 'jsonrpc': '2.0', 'method': 'AudioLibrary.GetAlbums', 'id': 1}\n",
      "INFO:urllib3.connectionpool:Starting new HTTP connection (1): 192.168.1.102\n",
      "INFO:pykodi.rpc.rpc:command processed successfully\n",
      "INFO:pykodi.core.core:processing slice 29 (songs 580 to 600 in 1055)\n",
      "INFO:pykodi.rpc.rpc:command: {'params': {'properties': ['title', 'artist', 'year', 'rating', 'musicbrainzalbumid', 'genreid', 'genre'], 'limits': {'start': 580, 'end': 600}}, 'jsonrpc': '2.0', 'method': 'AudioLibrary.GetAlbums', 'id': 1}\n",
      "INFO:urllib3.connectionpool:Starting new HTTP connection (1): 192.168.1.102\n",
      "INFO:pykodi.rpc.rpc:command processed successfully\n",
      "INFO:pykodi.core.core:processing slice 30 (songs 600 to 620 in 1055)\n",
      "INFO:pykodi.rpc.rpc:command: {'params': {'properties': ['title', 'artist', 'year', 'rating', 'musicbrainzalbumid', 'genreid', 'genre'], 'limits': {'start': 600, 'end': 620}}, 'jsonrpc': '2.0', 'method': 'AudioLibrary.GetAlbums', 'id': 1}\n",
      "INFO:urllib3.connectionpool:Starting new HTTP connection (1): 192.168.1.102\n",
      "INFO:pykodi.rpc.rpc:command processed successfully\n",
      "INFO:pykodi.core.core:processing slice 31 (songs 620 to 640 in 1055)\n",
      "INFO:pykodi.rpc.rpc:command: {'params': {'properties': ['title', 'artist', 'year', 'rating', 'musicbrainzalbumid', 'genreid', 'genre'], 'limits': {'start': 620, 'end': 640}}, 'jsonrpc': '2.0', 'method': 'AudioLibrary.GetAlbums', 'id': 1}\n",
      "INFO:urllib3.connectionpool:Starting new HTTP connection (1): 192.168.1.102\n",
      "INFO:pykodi.rpc.rpc:command processed successfully\n",
      "INFO:pykodi.core.core:processing slice 32 (songs 640 to 660 in 1055)\n",
      "INFO:pykodi.rpc.rpc:command: {'params': {'properties': ['title', 'artist', 'year', 'rating', 'musicbrainzalbumid', 'genreid', 'genre'], 'limits': {'start': 640, 'end': 660}}, 'jsonrpc': '2.0', 'method': 'AudioLibrary.GetAlbums', 'id': 1}\n",
      "INFO:urllib3.connectionpool:Starting new HTTP connection (1): 192.168.1.102\n",
      "INFO:pykodi.rpc.rpc:command processed successfully\n",
      "INFO:pykodi.core.core:processing slice 33 (songs 660 to 680 in 1055)\n",
      "INFO:pykodi.rpc.rpc:command: {'params': {'properties': ['title', 'artist', 'year', 'rating', 'musicbrainzalbumid', 'genreid', 'genre'], 'limits': {'start': 660, 'end': 680}}, 'jsonrpc': '2.0', 'method': 'AudioLibrary.GetAlbums', 'id': 1}\n",
      "INFO:urllib3.connectionpool:Starting new HTTP connection (1): 192.168.1.102\n",
      "INFO:pykodi.rpc.rpc:command processed successfully\n",
      "INFO:pykodi.core.core:processing slice 34 (songs 680 to 700 in 1055)\n",
      "INFO:pykodi.rpc.rpc:command: {'params': {'properties': ['title', 'artist', 'year', 'rating', 'musicbrainzalbumid', 'genreid', 'genre'], 'limits': {'start': 680, 'end': 700}}, 'jsonrpc': '2.0', 'method': 'AudioLibrary.GetAlbums', 'id': 1}\n",
      "INFO:urllib3.connectionpool:Starting new HTTP connection (1): 192.168.1.102\n",
      "INFO:pykodi.rpc.rpc:command processed successfully\n",
      "INFO:pykodi.core.core:processing slice 35 (songs 700 to 720 in 1055)\n",
      "INFO:pykodi.rpc.rpc:command: {'params': {'properties': ['title', 'artist', 'year', 'rating', 'musicbrainzalbumid', 'genreid', 'genre'], 'limits': {'start': 700, 'end': 720}}, 'jsonrpc': '2.0', 'method': 'AudioLibrary.GetAlbums', 'id': 1}\n",
      "INFO:urllib3.connectionpool:Starting new HTTP connection (1): 192.168.1.102\n",
      "INFO:pykodi.rpc.rpc:command processed successfully\n",
      "INFO:pykodi.core.core:processing slice 36 (songs 720 to 740 in 1055)\n",
      "INFO:pykodi.rpc.rpc:command: {'params': {'properties': ['title', 'artist', 'year', 'rating', 'musicbrainzalbumid', 'genreid', 'genre'], 'limits': {'start': 720, 'end': 740}}, 'jsonrpc': '2.0', 'method': 'AudioLibrary.GetAlbums', 'id': 1}\n",
      "INFO:urllib3.connectionpool:Starting new HTTP connection (1): 192.168.1.102\n",
      "INFO:pykodi.rpc.rpc:command processed successfully\n",
      "INFO:pykodi.core.core:processing slice 37 (songs 740 to 760 in 1055)\n",
      "INFO:pykodi.rpc.rpc:command: {'params': {'properties': ['title', 'artist', 'year', 'rating', 'musicbrainzalbumid', 'genreid', 'genre'], 'limits': {'start': 740, 'end': 760}}, 'jsonrpc': '2.0', 'method': 'AudioLibrary.GetAlbums', 'id': 1}\n",
      "INFO:urllib3.connectionpool:Starting new HTTP connection (1): 192.168.1.102\n",
      "INFO:pykodi.rpc.rpc:command processed successfully\n",
      "INFO:pykodi.core.core:processing slice 38 (songs 760 to 780 in 1055)\n",
      "INFO:pykodi.rpc.rpc:command: {'params': {'properties': ['title', 'artist', 'year', 'rating', 'musicbrainzalbumid', 'genreid', 'genre'], 'limits': {'start': 760, 'end': 780}}, 'jsonrpc': '2.0', 'method': 'AudioLibrary.GetAlbums', 'id': 1}\n",
      "INFO:urllib3.connectionpool:Starting new HTTP connection (1): 192.168.1.102\n",
      "INFO:pykodi.rpc.rpc:command processed successfully\n",
      "INFO:pykodi.core.core:processing slice 39 (songs 780 to 800 in 1055)\n",
      "INFO:pykodi.rpc.rpc:command: {'params': {'properties': ['title', 'artist', 'year', 'rating', 'musicbrainzalbumid', 'genreid', 'genre'], 'limits': {'start': 780, 'end': 800}}, 'jsonrpc': '2.0', 'method': 'AudioLibrary.GetAlbums', 'id': 1}\n",
      "INFO:urllib3.connectionpool:Starting new HTTP connection (1): 192.168.1.102\n",
      "INFO:pykodi.rpc.rpc:command processed successfully\n",
      "INFO:pykodi.core.core:processing slice 40 (songs 800 to 820 in 1055)\n",
      "INFO:pykodi.rpc.rpc:command: {'params': {'properties': ['title', 'artist', 'year', 'rating', 'musicbrainzalbumid', 'genreid', 'genre'], 'limits': {'start': 800, 'end': 820}}, 'jsonrpc': '2.0', 'method': 'AudioLibrary.GetAlbums', 'id': 1}\n",
      "INFO:urllib3.connectionpool:Starting new HTTP connection (1): 192.168.1.102\n",
      "INFO:pykodi.rpc.rpc:command processed successfully\n",
      "INFO:pykodi.core.core:processing slice 41 (songs 820 to 840 in 1055)\n",
      "INFO:pykodi.rpc.rpc:command: {'params': {'properties': ['title', 'artist', 'year', 'rating', 'musicbrainzalbumid', 'genreid', 'genre'], 'limits': {'start': 820, 'end': 840}}, 'jsonrpc': '2.0', 'method': 'AudioLibrary.GetAlbums', 'id': 1}\n",
      "INFO:urllib3.connectionpool:Starting new HTTP connection (1): 192.168.1.102\n",
      "INFO:pykodi.rpc.rpc:command processed successfully\n",
      "INFO:pykodi.core.core:processing slice 42 (songs 840 to 860 in 1055)\n",
      "INFO:pykodi.rpc.rpc:command: {'params': {'properties': ['title', 'artist', 'year', 'rating', 'musicbrainzalbumid', 'genreid', 'genre'], 'limits': {'start': 840, 'end': 860}}, 'jsonrpc': '2.0', 'method': 'AudioLibrary.GetAlbums', 'id': 1}\n",
      "INFO:urllib3.connectionpool:Starting new HTTP connection (1): 192.168.1.102\n",
      "INFO:pykodi.rpc.rpc:command processed successfully\n",
      "INFO:pykodi.core.core:processing slice 43 (songs 860 to 880 in 1055)\n",
      "INFO:pykodi.rpc.rpc:command: {'params': {'properties': ['title', 'artist', 'year', 'rating', 'musicbrainzalbumid', 'genreid', 'genre'], 'limits': {'start': 860, 'end': 880}}, 'jsonrpc': '2.0', 'method': 'AudioLibrary.GetAlbums', 'id': 1}\n",
      "INFO:urllib3.connectionpool:Starting new HTTP connection (1): 192.168.1.102\n",
      "INFO:pykodi.rpc.rpc:command processed successfully\n",
      "INFO:pykodi.core.core:processing slice 44 (songs 880 to 900 in 1055)\n",
      "INFO:pykodi.rpc.rpc:command: {'params': {'properties': ['title', 'artist', 'year', 'rating', 'musicbrainzalbumid', 'genreid', 'genre'], 'limits': {'start': 880, 'end': 900}}, 'jsonrpc': '2.0', 'method': 'AudioLibrary.GetAlbums', 'id': 1}\n",
      "INFO:urllib3.connectionpool:Starting new HTTP connection (1): 192.168.1.102\n",
      "INFO:pykodi.rpc.rpc:command processed successfully\n",
      "INFO:pykodi.core.core:processing slice 45 (songs 900 to 920 in 1055)\n",
      "INFO:pykodi.rpc.rpc:command: {'params': {'properties': ['title', 'artist', 'year', 'rating', 'musicbrainzalbumid', 'genreid', 'genre'], 'limits': {'start': 900, 'end': 920}}, 'jsonrpc': '2.0', 'method': 'AudioLibrary.GetAlbums', 'id': 1}\n",
      "INFO:urllib3.connectionpool:Starting new HTTP connection (1): 192.168.1.102\n",
      "INFO:pykodi.rpc.rpc:command processed successfully\n",
      "INFO:pykodi.core.core:processing slice 46 (songs 920 to 940 in 1055)\n",
      "INFO:pykodi.rpc.rpc:command: {'params': {'properties': ['title', 'artist', 'year', 'rating', 'musicbrainzalbumid', 'genreid', 'genre'], 'limits': {'start': 920, 'end': 940}}, 'jsonrpc': '2.0', 'method': 'AudioLibrary.GetAlbums', 'id': 1}\n",
      "INFO:urllib3.connectionpool:Starting new HTTP connection (1): 192.168.1.102\n",
      "INFO:pykodi.rpc.rpc:command processed successfully\n",
      "INFO:pykodi.core.core:processing slice 47 (songs 940 to 960 in 1055)\n",
      "INFO:pykodi.rpc.rpc:command: {'params': {'properties': ['title', 'artist', 'year', 'rating', 'musicbrainzalbumid', 'genreid', 'genre'], 'limits': {'start': 940, 'end': 960}}, 'jsonrpc': '2.0', 'method': 'AudioLibrary.GetAlbums', 'id': 1}\n",
      "INFO:urllib3.connectionpool:Starting new HTTP connection (1): 192.168.1.102\n",
      "INFO:pykodi.rpc.rpc:command processed successfully\n",
      "INFO:pykodi.core.core:processing slice 48 (songs 960 to 980 in 1055)\n",
      "INFO:pykodi.rpc.rpc:command: {'params': {'properties': ['title', 'artist', 'year', 'rating', 'musicbrainzalbumid', 'genreid', 'genre'], 'limits': {'start': 960, 'end': 980}}, 'jsonrpc': '2.0', 'method': 'AudioLibrary.GetAlbums', 'id': 1}\n",
      "INFO:urllib3.connectionpool:Starting new HTTP connection (1): 192.168.1.102\n",
      "INFO:pykodi.rpc.rpc:command processed successfully\n",
      "INFO:pykodi.core.core:processing slice 49 (songs 980 to 1000 in 1055)\n",
      "INFO:pykodi.rpc.rpc:command: {'params': {'properties': ['title', 'artist', 'year', 'rating', 'musicbrainzalbumid', 'genreid', 'genre'], 'limits': {'start': 980, 'end': 1000}}, 'jsonrpc': '2.0', 'method': 'AudioLibrary.GetAlbums', 'id': 1}\n",
      "INFO:urllib3.connectionpool:Starting new HTTP connection (1): 192.168.1.102\n",
      "INFO:pykodi.rpc.rpc:command processed successfully\n",
      "INFO:pykodi.core.core:processing slice 50 (songs 1000 to 1020 in 1055)\n",
      "INFO:pykodi.rpc.rpc:command: {'params': {'properties': ['title', 'artist', 'year', 'rating', 'musicbrainzalbumid', 'genreid', 'genre'], 'limits': {'start': 1000, 'end': 1020}}, 'jsonrpc': '2.0', 'method': 'AudioLibrary.GetAlbums', 'id': 1}\n",
      "INFO:urllib3.connectionpool:Starting new HTTP connection (1): 192.168.1.102\n",
      "INFO:pykodi.rpc.rpc:command processed successfully\n",
      "INFO:pykodi.core.core:processing slice 51 (songs 1020 to 1040 in 1055)\n",
      "INFO:pykodi.rpc.rpc:command: {'params': {'properties': ['title', 'artist', 'year', 'rating', 'musicbrainzalbumid', 'genreid', 'genre'], 'limits': {'start': 1020, 'end': 1040}}, 'jsonrpc': '2.0', 'method': 'AudioLibrary.GetAlbums', 'id': 1}\n",
      "INFO:urllib3.connectionpool:Starting new HTTP connection (1): 192.168.1.102\n",
      "INFO:pykodi.rpc.rpc:command processed successfully\n",
      "INFO:pykodi.core.core:processing slice 52 (songs 1040 to 1055 in 1055)\n",
      "INFO:pykodi.rpc.rpc:command: {'params': {'properties': ['title', 'artist', 'year', 'rating', 'musicbrainzalbumid', 'genreid', 'genre'], 'limits': {'start': 1040, 'end': 1055}}, 'jsonrpc': '2.0', 'method': 'AudioLibrary.GetAlbums', 'id': 1}\n",
      "INFO:urllib3.connectionpool:Starting new HTTP connection (1): 192.168.1.102\n",
      "INFO:pykodi.rpc.rpc:command processed successfully\n"
     ]
    }
   ],
   "source": [
    "albums = {}\n",
    "kodi.albums_sync(params, albums, False)"
   ]
  },
  {
   "cell_type": "code",
   "execution_count": 7,
   "metadata": {
    "collapsed": false
   },
   "outputs": [
    {
     "name": "stdout",
     "output_type": "stream",
     "text": [
      "Number of albums in the library: 1055\n",
      "{u'rating': 4, u'artist': [u'Zero 7'], u'title': u'When It Falls', u'label': u'When It Falls', u'year': 2004, u'genre': [], u'genreid': [], u'musicbrainzalbumid': u'34420aba-c8ea-3821-8da1-e4797709f6e6'}\n"
     ]
    }
   ],
   "source": [
    "print \"Number of albums in the library: {}\".format(len(albums))\n",
    "print albums[1053]"
   ]
  },
  {
   "cell_type": "markdown",
   "metadata": {},
   "source": [
    "## Songs\n",
    "\n",
    "We can now sync the library localy: "
   ]
  },
  {
   "cell_type": "code",
   "execution_count": null,
   "metadata": {
    "collapsed": false
   },
   "outputs": [],
   "source": [
    "songs = {}\n",
    "kodi.songs_sync(params, songs, False)"
   ]
  },
  {
   "cell_type": "code",
   "execution_count": null,
   "metadata": {
    "collapsed": false
   },
   "outputs": [],
   "source": [
    "for songid in songs:\n",
    "    print songid, songs[songid]['title']"
   ]
  },
  {
   "cell_type": "markdown",
   "metadata": {},
   "source": [
    "That's it for today!"
   ]
  }
 ],
 "metadata": {
  "kernelspec": {
   "display_name": "Python 2",
   "language": "python",
   "name": "python2"
  },
  "language_info": {
   "codemirror_mode": {
    "name": "ipython",
    "version": 2
   },
   "file_extension": ".py",
   "mimetype": "text/x-python",
   "name": "python",
   "nbconvert_exporter": "python",
   "pygments_lexer": "ipython2",
   "version": "2.7.6"
  }
 },
 "nbformat": 4,
 "nbformat_minor": 0
}
